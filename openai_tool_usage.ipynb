{
 "cells": [
  {
   "cell_type": "markdown",
   "id": "374259c5-33ca-4a51-a608-fa855cec3f2f",
   "metadata": {},
   "source": [
    "<h1>OpenAI Tool Usage</h1>"
   ]
  },
  {
   "cell_type": "markdown",
   "id": "96165a45-c930-4ccc-8485-d8fe3428c2cd",
   "metadata": {},
   "source": [
    "<h3>Objectives:</h3>\n",
    "<p>\n",
    "<ol>\n",
    "<li>Tool Usage</li>\n",
    "<li>Gradio + streaming</li>\n",
    "</ol>\n",
    "</p>"
   ]
  },
  {
   "cell_type": "code",
   "execution_count": 1,
   "id": "0d69ddaf-9f92-4b99-a561-dc4df114ed3e",
   "metadata": {},
   "outputs": [],
   "source": [
    "# imports\n",
    "\n",
    "import os\n",
    "import json\n",
    "from dotenv import load_dotenv\n",
    "from openai import OpenAI\n",
    "import gradio as gr"
   ]
  },
  {
   "cell_type": "code",
   "execution_count": 2,
   "id": "3c7b6a83-bd45-4a1f-830a-771f8797f0f9",
   "metadata": {},
   "outputs": [
    {
     "name": "stdout",
     "output_type": "stream",
     "text": [
      "OpenAI API Key exists and begins sk-axLiE\n"
     ]
    }
   ],
   "source": [
    "# Initialization\n",
    "\n",
    "load_dotenv(override=True)\n",
    "\n",
    "openai_api_key = os.getenv('OPENAI_API_KEY')\n",
    "\n",
    "if openai_api_key:\n",
    "    print(f\"OpenAI API Key exists and begins {openai_api_key[:8]}\")\n",
    "else:\n",
    "    print(\"OpenAI API Key not set\")\n"
   ]
  },
  {
   "cell_type": "code",
   "execution_count": 3,
   "id": "a697f7a1-7d8b-4c7b-8e4d-0be03eaf850a",
   "metadata": {},
   "outputs": [],
   "source": [
    "# Initialize\n",
    "\n",
    "openai = OpenAI()"
   ]
  },
  {
   "cell_type": "code",
   "execution_count": 4,
   "id": "5e25701e-92f3-4be7-9db8-39ccb30dca5f",
   "metadata": {},
   "outputs": [],
   "source": [
    "# defining common system message\n",
    "system_message = \"You are a polite and helpful application support assistant for an application called 'Fruit Basket'. \"\n",
    "system_message += \"You are to help users with issues they experience while progressing quotes on the 'Fruit Basket' application. \"\n",
    "system_message += \"All quotes have an associated quoteId to uniquely identify the quote. \"\n",
    "system_message += \"If user has not provided the quoteId, ask the user to provide the same. \"\n",
    "system_message += \"If user asks anything except assistance with 'Fruit Basket' quote, then politely decline the request \"\n",
    "system_message += \"and ask user to reach out to application_support@fruitbasket.com. \""
   ]
  },
  {
   "cell_type": "code",
   "execution_count": 5,
   "id": "a547f8cc-4ac0-477c-b6ea-f1a72a22d59b",
   "metadata": {},
   "outputs": [
    {
     "name": "stdout",
     "output_type": "stream",
     "text": [
      "{'quoteId': 'FB002', 'quoteStage': 'quote config', 'quoteStageStatus': 'config pending', 'terminalStatus': 'FALSE', 'description': 'User needs to add configuration against chosen product(s)'}\n"
     ]
    }
   ],
   "source": [
    "# Open and read the JSON file\n",
    "with open('data.json', 'r') as file:\n",
    "    data = json.load(file)\n",
    "\n",
    "# Print the 2nd record of data\n",
    "print(data['quotes'][1])\n"
   ]
  },
  {
   "cell_type": "code",
   "execution_count": 6,
   "id": "4e7bdc4d-7a59-4db4-8a11-01e6d95b6653",
   "metadata": {},
   "outputs": [],
   "source": [
    "# function to retrieve quote details\n",
    "def quote_details(quoteId):\n",
    "    result = {'quoteId': 'NA', 'quoteStage': 'NA', 'quoteStageStatus': 'NA', 'terminalStatus': 'FALSE', 'description': 'Quote Not Found'}\n",
    "    for i in range(len(data['quotes'])):\n",
    "        if quoteId in data['quotes'][i].get('quoteId'):\n",
    "            result = data['quotes'][i]\n",
    "            break\n",
    "    return result\n"
   ]
  },
  {
   "cell_type": "code",
   "execution_count": 7,
   "id": "f7179ac6-66e6-4ac4-8ce0-2f1cc789445f",
   "metadata": {},
   "outputs": [
    {
     "data": {
      "text/plain": [
       "{'quoteId': 'NA',\n",
       " 'quoteStage': 'NA',\n",
       " 'quoteStageStatus': 'NA',\n",
       " 'terminalStatus': 'FALSE',\n",
       " 'description': 'Quote Not Found'}"
      ]
     },
     "execution_count": 7,
     "metadata": {},
     "output_type": "execute_result"
    }
   ],
   "source": [
    "# test function - incorrect quote id\n",
    "quote_details('asdas')"
   ]
  },
  {
   "cell_type": "code",
   "execution_count": 8,
   "id": "b136a697-e12c-4ba1-8b2b-ac75d7bbd8e0",
   "metadata": {},
   "outputs": [
    {
     "data": {
      "text/plain": [
       "{'quoteId': 'FB012',\n",
       " 'quoteStage': 'customize',\n",
       " 'quoteStageStatus': 'customize incomplete',\n",
       " 'terminalStatus': 'FALSE',\n",
       " 'description': 'User has added incomplete product customization. Ask user to complete the product customization'}"
      ]
     },
     "execution_count": 8,
     "metadata": {},
     "output_type": "execute_result"
    }
   ],
   "source": [
    "# test function\n",
    "quote_details('FB012')"
   ]
  },
  {
   "cell_type": "code",
   "execution_count": 9,
   "id": "4f3f55d6-f4f3-424a-9ec5-15e69b4abb72",
   "metadata": {},
   "outputs": [],
   "source": [
    "# defining the metadata for quote_details function using the pre-defined dict structure\n",
    "quote_function = {\n",
    "    \"name\": \"quote_details\",\n",
    "    \"description\": \"Get the quote details of user's quote. Call this whenever details of user's quote needs to be fetched. For example, when a customer asks 'Why is my quote FB002 stuck?'\",\n",
    "    \"parameters\": {\n",
    "        \"type\": \"object\",\n",
    "        \"properties\": {\n",
    "            \"quoteId\": {\n",
    "                \"type\": \"string\",\n",
    "                \"description\": \"The quoteId that needs to be searched\",\n",
    "            },\n",
    "        },\n",
    "        \"required\": [\"quoteId\"],\n",
    "        \"additionalProperties\": False\n",
    "    }\n",
    "}\n"
   ]
  },
  {
   "cell_type": "code",
   "execution_count": 10,
   "id": "f71baa91-2779-4793-aa89-f875b5e43eeb",
   "metadata": {},
   "outputs": [],
   "source": [
    "# And this is included in a list of tools:\n",
    "\n",
    "tools = [{\"type\": \"function\", \"function\": quote_function}]"
   ]
  },
  {
   "cell_type": "code",
   "execution_count": 11,
   "id": "b5609fc0-9f5a-4b74-a26f-0887b548c13d",
   "metadata": {},
   "outputs": [],
   "source": [
    "MODEL = \"gpt-4o-mini\""
   ]
  },
  {
   "cell_type": "code",
   "execution_count": 12,
   "id": "a197bcad-5f4c-4884-b431-bf2a8caeed6b",
   "metadata": {},
   "outputs": [],
   "source": [
    "# chat function with tool call - NON-STREAMING VERSION\n",
    "def chat(message, history):\n",
    "    messages = [{\"role\": \"system\", \"content\": system_message}] + history + [{\"role\": \"user\", \"content\": message}]\n",
    "    response = openai.chat.completions.create(model=MODEL, messages=messages, tools=tools)\n",
    "\n",
    "    if response.choices[0].finish_reason==\"tool_calls\":\n",
    "        message = response.choices[0].message\n",
    "        response, description = handle_tool_call(message)\n",
    "        messages.append(message)\n",
    "        messages.append(response)\n",
    "        response = openai.chat.completions.create(model=MODEL, messages=messages)\n",
    "    #print(messages)\n",
    "    return response.choices[0].message.content"
   ]
  },
  {
   "cell_type": "code",
   "execution_count": 13,
   "id": "9780a351-eee8-44b2-9d1c-894233a8b812",
   "metadata": {},
   "outputs": [],
   "source": [
    "# We have to write that function handle_tool_call:\n",
    "\n",
    "def handle_tool_call(message):\n",
    "    tool_call = message.tool_calls[0]\n",
    "    arguments = json.loads(tool_call.function.arguments)\n",
    "    quoteId = arguments.get('quoteId')\n",
    "    quote = quote_details(quoteId)\n",
    "    response = {\n",
    "        \"role\": \"tool\",\n",
    "        \"content\": json.dumps(quote),\n",
    "        \"tool_call_id\": tool_call.id\n",
    "    }\n",
    "    return response, quote.get('description')"
   ]
  },
  {
   "cell_type": "code",
   "execution_count": 14,
   "id": "38a86a82-b315-47f5-991e-44d999726e72",
   "metadata": {},
   "outputs": [
    {
     "name": "stdout",
     "output_type": "stream",
     "text": [
      "* Running on local URL:  http://127.0.0.1:7860\n",
      "\n",
      "To create a public link, set `share=True` in `launch()`.\n"
     ]
    },
    {
     "data": {
      "text/html": [
       "<div><iframe src=\"http://127.0.0.1:7860/\" width=\"100%\" height=\"500\" allow=\"autoplay; camera; microphone; clipboard-read; clipboard-write;\" frameborder=\"0\" allowfullscreen></iframe></div>"
      ],
      "text/plain": [
       "<IPython.core.display.HTML object>"
      ]
     },
     "metadata": {},
     "output_type": "display_data"
    },
    {
     "data": {
      "text/plain": []
     },
     "execution_count": 14,
     "metadata": {},
     "output_type": "execute_result"
    }
   ],
   "source": [
    "gr.ChatInterface(fn=chat, type=\"messages\").launch()"
   ]
  },
  {
   "cell_type": "code",
   "execution_count": 15,
   "id": "17e7be8d-1455-4be0-af04-a17fea962e84",
   "metadata": {},
   "outputs": [],
   "source": [
    "# handle_stream_tool_call definition\n",
    "def handle_stream_tool_call(final_tool_calls):\n",
    "    tool_call = final_tool_calls[0]\n",
    "    arguments = json.loads(tool_call.function.arguments)\n",
    "    quoteId = arguments.get('quoteId')\n",
    "    quote = quote_details(quoteId)\n",
    "    response = {\n",
    "        \"role\": \"tool\",\n",
    "        \"content\": json.dumps(quote),\n",
    "        \"tool_call_id\": tool_call.id\n",
    "    }\n",
    "    return response, quote.get('description')"
   ]
  },
  {
   "cell_type": "code",
   "execution_count": 16,
   "id": "0ddb863d-5bb9-4282-bce4-951f66ae5d1e",
   "metadata": {},
   "outputs": [],
   "source": [
    "# chat function with tool call\n",
    "def chat_stream(message, history):\n",
    "    messages = [{\"role\": \"system\", \"content\": system_message}] + history + [{\"role\": \"user\", \"content\": message}]\n",
    "    stream = openai.chat.completions.create(model=MODEL, messages=messages, tools=tools, stream=True)\n",
    "\n",
    "    response = \"\"\n",
    "    final_tool_calls = {}\n",
    "    \n",
    "    for chunk in stream:\n",
    "        if chunk.choices[0].delta.tool_calls and len(chunk.choices[0].delta.tool_calls) > 0:\n",
    "            for tool_call in chunk.choices[0].delta.tool_calls or []:\n",
    "                index = tool_call.index\n",
    "                if index not in final_tool_calls:\n",
    "                    final_tool_calls[index] = tool_call\n",
    "                final_tool_calls[index].function.arguments += tool_call.function.arguments\n",
    "                response += \"processing...\"\n",
    "        elif chunk.choices[0].finish_reason==\"tool_calls\":\n",
    "            #print(final_tool_calls)\n",
    "            response, description = handle_stream_tool_call(final_tool_calls)\n",
    "            assistant_message = {\"role\":\"assistant\", \"tool_calls\":[\n",
    "                {\"id\":final_tool_calls[0].id, \"function\":final_tool_calls[0].function, \"type\": final_tool_calls[0].type}\n",
    "            ]}\n",
    "            \n",
    "            #print(assistant_message)\n",
    "            #print(response)\n",
    "            messages.append(assistant_message)\n",
    "            messages.append(response)\n",
    "            #print(messages)\n",
    "            tool_stream = openai.chat.completions.create(model=MODEL, messages=messages, stream=True)\n",
    "            response = \"\"\n",
    "            for new_chunk in tool_stream:\n",
    "                response += new_chunk.choices[0].delta.content or ''\n",
    "                yield response\n",
    "        else:\n",
    "            response += chunk.choices[0].delta.content or ''\n",
    "        yield response\n"
   ]
  },
  {
   "cell_type": "code",
   "execution_count": 17,
   "id": "83d331c9-a4f2-4d11-a8f2-b04621d23dd1",
   "metadata": {},
   "outputs": [
    {
     "name": "stdout",
     "output_type": "stream",
     "text": [
      "* Running on local URL:  http://127.0.0.1:7861\n",
      "\n",
      "To create a public link, set `share=True` in `launch()`.\n"
     ]
    },
    {
     "data": {
      "text/html": [
       "<div><iframe src=\"http://127.0.0.1:7861/\" width=\"100%\" height=\"500\" allow=\"autoplay; camera; microphone; clipboard-read; clipboard-write;\" frameborder=\"0\" allowfullscreen></iframe></div>"
      ],
      "text/plain": [
       "<IPython.core.display.HTML object>"
      ]
     },
     "metadata": {},
     "output_type": "display_data"
    },
    {
     "data": {
      "text/plain": []
     },
     "execution_count": 17,
     "metadata": {},
     "output_type": "execute_result"
    }
   ],
   "source": [
    "gr.ChatInterface(fn=chat_stream, type=\"messages\").launch()"
   ]
  },
  {
   "cell_type": "code",
   "execution_count": null,
   "id": "abe8420b-0e1e-422d-add0-65234af07f3e",
   "metadata": {},
   "outputs": [],
   "source": []
  }
 ],
 "metadata": {
  "kernelspec": {
   "display_name": "Python 3 (ipykernel)",
   "language": "python",
   "name": "python3"
  },
  "language_info": {
   "codemirror_mode": {
    "name": "ipython",
    "version": 3
   },
   "file_extension": ".py",
   "mimetype": "text/x-python",
   "name": "python",
   "nbconvert_exporter": "python",
   "pygments_lexer": "ipython3",
   "version": "3.11.11"
  }
 },
 "nbformat": 4,
 "nbformat_minor": 5
}
